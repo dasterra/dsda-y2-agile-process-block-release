{
 "cells": [
  {
   "cell_type": "markdown",
   "id": "bf23d394-64a0-4189-8c56-70a778797a91",
   "metadata": {},
   "source": [
    "# Block Release\n",
    "\n",
    "This notebook contains the skeleton of the code to be used for the tasks."
   ]
  },
  {
   "cell_type": "markdown",
   "id": "dd126b81-5c5d-402f-be13-0849c5f0645f",
   "metadata": {},
   "source": [
    "## Imports"
   ]
  },
  {
   "cell_type": "code",
   "execution_count": null,
   "id": "b6d4f302-3243-4a85-8e86-45ffa3b66dcb",
   "metadata": {
    "tags": []
   },
   "outputs": [],
   "source": [
    "import pandas as pd\n",
    "import requests"
   ]
  },
  {
   "cell_type": "markdown",
   "id": "ef2764d3-9668-42c4-a0c7-18f2b849f1bb",
   "metadata": {
    "tags": []
   },
   "source": [
    "## Locations"
   ]
  },
  {
   "cell_type": "code",
   "execution_count": null,
   "id": "a0d51268-a911-4300-ba82-ddbfa96f9e36",
   "metadata": {
    "tags": []
   },
   "outputs": [],
   "source": [
    "# coordinates are latitude, longitude pairs\n",
    "LOCATION_UNIVERSITY_PARK = (52.93726647677705, -1.1959384006396074)\n",
    "LOCATION_JUBILEE_CAMPUS = (52.95232635429298, -1.1862643609249397)\n",
    "LOCATION_NOTTINGHAM_CITY_CENTRE = (52.953, -1.149)"
   ]
  },
  {
   "cell_type": "markdown",
   "id": "092caed0-a70a-4fbc-92c1-345bc2a33dc2",
   "metadata": {},
   "source": [
    "## API\n",
    "\n",
    "You will need to add more API URLs here as needed to complete the stories."
   ]
  },
  {
   "cell_type": "code",
   "execution_count": null,
   "id": "a1b208a0-88d8-48e6-bcdd-c2001d3dbdee",
   "metadata": {
    "tags": []
   },
   "outputs": [],
   "source": [
    "API_STREET_CRIME = \"https://data.police.uk/api/crimes-street/\""
   ]
  },
  {
   "cell_type": "markdown",
   "id": "e0aa343a-c9c9-41d5-80bc-17a71d639a6c",
   "metadata": {},
   "source": [
    "## Crimes Near University Park Campus\n",
    "\n",
    "Example function which calculates the number of crimes within 1 mile of University Park campus."
   ]
  },
  {
   "cell_type": "code",
   "execution_count": null,
   "id": "76e22400-1d34-4ac0-bf4f-51723ccf1c38",
   "metadata": {
    "tags": []
   },
   "outputs": [],
   "source": [
    "def count_crimes_within_1_mile(\n",
    "    lat: float, lon: float, year: int, month: int\n",
    ") -> int:\n",
    "    \"\"\"Calculate number of crimes within 1 mile of a location for a date.\n",
    "\n",
    "    Args:\n",
    "        lat (float): Latitude of the location.\n",
    "        lon (float): Longitude of the location.\n",
    "        year (int): Year to find crimes.\n",
    "        month (int): Month of the provided year to find crimes.\n",
    "\n",
    "    Returns:\n",
    "        int: Count of the crimes\n",
    "    \"\"\"\n",
    "    url = (\n",
    "        API_STREET_CRIME + f\"all-crime?lat={lat}&lng={lon}&date={year}-{month}\"\n",
    "    )\n",
    "    response = requests.get(url)\n",
    "    if response.status_code == 200:\n",
    "        return len(response.json())\n",
    "    else:\n",
    "        print(f\"Error retrieving data: {response.status_code}\")\n",
    "\n",
    "\n",
    "print(count_crimes_within_1_mile(*LOCATION_UNIVERSITY_PARK, 2023, 1))"
   ]
  },
  {
   "cell_type": "markdown",
   "id": "712df691",
   "metadata": {},
   "source": [
    "### 1. As a student who cycles to University Park campus, I want to know how many bike thefts there were in January 2023 within 1 mile of University Park campus so that I can understand how safe it might be to leave my bike there."
   ]
  },
  {
   "cell_type": "code",
   "execution_count": null,
   "id": "95949015",
   "metadata": {},
   "outputs": [],
   "source": []
  },
  {
   "cell_type": "markdown",
   "id": "960bffe0",
   "metadata": {},
   "source": [
    "### 2. As a student safety coordinator, I want a comparison of the distributions of crime in January 2023 within 1 mile of University Park campus, 1 mile of Jubilee Campus, and 1 mile of Nottingham city centre so that I can inform students of their risks in different areas."
   ]
  },
  {
   "cell_type": "code",
   "execution_count": null,
   "id": "ddd256e3",
   "metadata": {},
   "outputs": [],
   "source": []
  },
  {
   "cell_type": "markdown",
   "id": "d6ded78a",
   "metadata": {},
   "source": [
    "###  3. As a social media account manager for the University of Nottingham. I want to know the official web links for the Nottinghamshire police force so that I can post these to make staff and students aware of them."
   ]
  },
  {
   "cell_type": "code",
   "execution_count": null,
   "id": "5fb0ae87",
   "metadata": {},
   "outputs": [],
   "source": []
  },
  {
   "cell_type": "markdown",
   "id": "959ae6f0",
   "metadata": {},
   "source": [
    "### 4. As a student investigating trends in outcomes of violent crimes around the Christmas period, I want a distribution of the number of violent crimes and the outcomes of these in recent years (December 2022, 2021, and 2020) so that I can identify if there have been any changes."
   ]
  },
  {
   "cell_type": "code",
   "execution_count": null,
   "id": "8b27e76c",
   "metadata": {},
   "outputs": [],
   "source": []
  },
  {
   "cell_type": "markdown",
   "id": "1e388114",
   "metadata": {},
   "source": [
    "### 5. As an operations manager for security at the University of Nottingham, I want to know the number of bike thefts over the summer months in 2022 (July, August, September) at both University Park campus and Jubilee Campus so that I can appropriately allocate security officers to each location."
   ]
  },
  {
   "cell_type": "code",
   "execution_count": null,
   "id": "cc6099c4",
   "metadata": {},
   "outputs": [],
   "source": []
  },
  {
   "cell_type": "markdown",
   "id": "95e0fa6e",
   "metadata": {},
   "source": [
    "### 6. As a student safety coordinator for Jubilee Campus, I want to know the changes in the number of burglaries in each month of 2022 for students living within 1 mile of the campus so that I can make students aware of any change in the frequency of burglaries."
   ]
  },
  {
   "cell_type": "code",
   "execution_count": null,
   "id": "e0f152b9",
   "metadata": {},
   "outputs": [],
   "source": []
  },
  {
   "cell_type": "markdown",
   "id": "9f8e4508",
   "metadata": {},
   "source": [
    "### 7. As a student who had their bike stolen from University Park campus in December 2022, I want to know the outcomes of bike thefts (and the counts for each) over the prior 6 months so that I have some context for the likelihood of finding the person responsible."
   ]
  },
  {
   "cell_type": "code",
   "execution_count": null,
   "id": "a348bcc1",
   "metadata": {},
   "outputs": [],
   "source": []
  },
  {
   "cell_type": "markdown",
   "id": "796caaf1",
   "metadata": {},
   "source": [
    "### 8. As a student who lives in the city centre and drives to University Park campus, I want to know if there has been a rise in the total number of vehicle crimes over the last 6 months of 2022 within 1 mile of both these locations so that I can decide whether to get a dashcam and park in more secure locations."
   ]
  },
  {
   "cell_type": "code",
   "execution_count": null,
   "id": "194883d6",
   "metadata": {},
   "outputs": [],
   "source": []
  },
  {
   "cell_type": "markdown",
   "id": "5e6f2854",
   "metadata": {},
   "source": [
    "### 9. As an event organiser, I want to know the details of the senior Nottinghamshire police officers so that I can provide some information to attendees about them."
   ]
  },
  {
   "cell_type": "code",
   "execution_count": null,
   "id": "70bf2184",
   "metadata": {},
   "outputs": [],
   "source": []
  },
  {
   "cell_type": "markdown",
   "id": "ee8d5411",
   "metadata": {},
   "source": [
    "### 10. As a social media account manager for the University of Nottingham. I want to know the policing priorities for Nottinghamshire police in the areas of the City Centre and Wollaton East and Lenton Abbey so that I can post these to make staff and students aware of them."
   ]
  },
  {
   "cell_type": "code",
   "execution_count": null,
   "id": "5a855c12",
   "metadata": {},
   "outputs": [],
   "source": []
  }
 ],
 "metadata": {
  "kernelspec": {
   "display_name": "Python 3 (ipykernel)",
   "language": "python",
   "name": "python3"
  },
  "language_info": {
   "codemirror_mode": {
    "name": "ipython",
    "version": 3
   },
   "file_extension": ".py",
   "mimetype": "text/x-python",
   "name": "python",
   "nbconvert_exporter": "python",
   "pygments_lexer": "ipython3",
   "version": "3.9.16"
  }
 },
 "nbformat": 4,
 "nbformat_minor": 5
}
