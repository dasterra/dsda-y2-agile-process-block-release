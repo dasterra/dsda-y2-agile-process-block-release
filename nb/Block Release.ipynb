{
 "cells": [
  {
   "cell_type": "markdown",
   "id": "9153965a",
   "metadata": {},
   "source": [
    "# Block Release\n",
    "\n",
    "This notebook contains the skeleton of the code to be used for the tasks."
   ]
  },
  {
   "cell_type": "markdown",
   "id": "b1912378",
   "metadata": {},
   "source": [
    "## Imports"
   ]
  },
  {
   "cell_type": "code",
   "execution_count": 38,
   "id": "5ae7950e",
   "metadata": {
    "tags": []
   },
   "outputs": [],
   "source": [
    "import pandas as pd\n",
    "import requests\n",
    "import warnings\n",
    "warnings.filterwarnings('ignore')"
   ]
  },
  {
   "cell_type": "markdown",
   "id": "0fd5c6fc",
   "metadata": {
    "tags": []
   },
   "source": [
    "## Locations"
   ]
  },
  {
   "cell_type": "code",
   "execution_count": 27,
   "id": "be9487dc",
   "metadata": {
    "tags": []
   },
   "outputs": [],
   "source": [
    "# coordinates are latitude, longitude pairs\n",
    "LOCATION_UNIVERSITY_PARK = (52.93726647677705, -1.1959384006396074)\n",
    "LOCATION_JUBILEE_CAMPUS = (52.95232635429298, -1.1862643609249397)\n",
    "LOCATION_NOTTINGHAM_CITY_CENTRE = (52.953, -1.149)"
   ]
  },
  {
   "cell_type": "markdown",
   "id": "c1f5f4ea",
   "metadata": {},
   "source": [
    "## API\n",
    "\n",
    "You will need to add more API URLs here as needed to complete the stories."
   ]
  },
  {
   "cell_type": "code",
   "execution_count": 32,
   "id": "a11789d8",
   "metadata": {
    "tags": []
   },
   "outputs": [],
   "source": [
    "API_STREET_CRIME = \"https://data.police.uk/api/crimes-street/\""
   ]
  },
  {
   "cell_type": "markdown",
   "id": "9022b34a",
   "metadata": {},
   "source": [
    "## Crimes Near University Park Campus\n",
    "\n",
    "Example function which calculates the number of crimes within 1 mile of University Park campus."
   ]
  },
  {
   "cell_type": "code",
   "execution_count": 33,
   "id": "1f6459dd",
   "metadata": {
    "tags": []
   },
   "outputs": [
    {
     "name": "stdout",
     "output_type": "stream",
     "text": [
      "135\n"
     ]
    }
   ],
   "source": [
    "def count_crimes_within_1_mile(\n",
    "    lat: float, lon: float, year: int, month: int\n",
    ") -> int:\n",
    "    \"\"\"Calculate number of crimes within 1 mile of a location for a date.\n",
    "\n",
    "    Args:\n",
    "        lat (float): Latitude of the location.\n",
    "        lon (float): Longitude of the location.\n",
    "        year (int): Year to find crimes.\n",
    "        month (int): Month of the provided year to find crimes.\n",
    "\n",
    "    Returns:\n",
    "        int: Count of the crimes\n",
    "    \"\"\"\n",
    "    url = (\n",
    "        API_STREET_CRIME + f\"all-crime?lat={lat}&lng={lon}&date={year}-{month}\"\n",
    "    )\n",
    "    response = requests.get(url)\n",
    "    if response.status_code == 200:\n",
    "        return len(response.json())\n",
    "    else:\n",
    "        print(f\"Error retrieving data: {response.status_code}\")\n",
    "\n",
    "\n",
    "print(count_crimes_within_1_mile(*LOCATION_UNIVERSITY_PARK, 2023, 1))"
   ]
  },
  {
   "cell_type": "markdown",
   "id": "13ff6af5",
   "metadata": {},
   "source": [
    "### 1. As a student who cycles to University Park campus, I want to know how many bike thefts there were in January 2023 within 1 mile of University Park campus so that I can understand how safe it might be to leave my bike there."
   ]
  },
  {
   "cell_type": "code",
   "execution_count": 34,
   "id": "f7db8c6e",
   "metadata": {},
   "outputs": [
    {
     "name": "stdout",
     "output_type": "stream",
     "text": [
      "7\n"
     ]
    }
   ],
   "source": [
    "def count_bicycle_theft_within_1_mile(\n",
    "    lat: float, lon: float, year: int, month: int\n",
    ") -> int:\n",
    "    \"\"\"Calculate number of crimes within 1 mile of a location for a date.\n",
    "\n",
    "    Args:\n",
    "        lat (float): Latitude of the location.\n",
    "        lon (float): Longitude of the location.\n",
    "        year (int): Year to find crimes.\n",
    "        month (int): Month of the provided year to find crimes.\n",
    "\n",
    "    Returns:\n",
    "        int: Count of the crimes\n",
    "    \"\"\"\n",
    "    url = (\n",
    "        API_STREET_CRIME + f\"bicycle-theft?lat={lat}&lng={lon}&date={year}-{month}\"\n",
    "    )\n",
    "    response = requests.get(url)\n",
    "    if response.status_code == 200:\n",
    "        return len(response.json())\n",
    "    else:\n",
    "        print(f\"Error retrieving data: {response.status_code}\")\n",
    "\n",
    "\n",
    "print(count_bicycle_theft_within_1_mile(*LOCATION_UNIVERSITY_PARK, 2023, 1))"
   ]
  },
  {
   "cell_type": "markdown",
   "id": "61cf4ca1",
   "metadata": {},
   "source": [
    "### 2. As a student safety coordinator, I want a comparison of the distributions of crime in January 2023 within 1 mile of University Park campus, 1 mile of Jubilee Campus, and 1 mile of Nottingham city centre so that I can inform students of their risks in different areas."
   ]
  },
  {
   "cell_type": "code",
   "execution_count": null,
   "id": "dd8787e9",
   "metadata": {},
   "outputs": [],
   "source": []
  },
  {
   "cell_type": "markdown",
   "id": "9402ce7c",
   "metadata": {},
   "source": [
    "###  3. As a social media account manager for the University of Nottingham. I want to know the official web links for the Nottinghamshire police force so that I can post these to make staff and students aware of them."
   ]
  },
  {
   "cell_type": "code",
   "execution_count": null,
   "id": "4732dea4",
   "metadata": {},
   "outputs": [],
   "source": []
  },
  {
   "cell_type": "markdown",
   "id": "341fc7ee",
   "metadata": {},
   "source": [
    "### 4. As a student investigating trends in outcomes of violent crimes around the Christmas period, I want a distribution of the number of violent crimes and the outcomes of these in recent years (December 2022, 2021, and 2020) so that I can identify if there have been any changes."
   ]
  },
  {
   "cell_type": "code",
   "execution_count": null,
   "id": "2b63a5df",
   "metadata": {},
   "outputs": [],
   "source": []
  },
  {
   "cell_type": "markdown",
   "id": "3233f676",
   "metadata": {},
   "source": [
    "### 5. As an operations manager for security at the University of Nottingham, I want to know the number of bike thefts over the summer months in 2022 (July, August, September) at both University Park campus and Jubilee Campus so that I can appropriately allocate security officers to each location."
   ]
  },
  {
   "cell_type": "code",
   "execution_count": 41,
   "id": "88b98d54",
   "metadata": {},
   "outputs": [
    {
     "data": {
      "text/html": [
       "<div>\n",
       "<style scoped>\n",
       "    .dataframe tbody tr th:only-of-type {\n",
       "        vertical-align: middle;\n",
       "    }\n",
       "\n",
       "    .dataframe tbody tr th {\n",
       "        vertical-align: top;\n",
       "    }\n",
       "\n",
       "    .dataframe thead th {\n",
       "        text-align: right;\n",
       "    }\n",
       "</style>\n",
       "<table border=\"1\" class=\"dataframe\">\n",
       "  <thead>\n",
       "    <tr style=\"text-align: right;\">\n",
       "      <th></th>\n",
       "      <th>location</th>\n",
       "      <th>date</th>\n",
       "      <th>number of crimes</th>\n",
       "    </tr>\n",
       "  </thead>\n",
       "  <tbody>\n",
       "    <tr>\n",
       "      <th>0</th>\n",
       "      <td>UNIVERSITY PARK</td>\n",
       "      <td>7-2022</td>\n",
       "      <td>4</td>\n",
       "    </tr>\n",
       "    <tr>\n",
       "      <th>1</th>\n",
       "      <td>UNIVERSITY PARK</td>\n",
       "      <td>8-2022</td>\n",
       "      <td>7</td>\n",
       "    </tr>\n",
       "    <tr>\n",
       "      <th>2</th>\n",
       "      <td>UNIVERSITY PARK</td>\n",
       "      <td>9-2022</td>\n",
       "      <td>8</td>\n",
       "    </tr>\n",
       "    <tr>\n",
       "      <th>3</th>\n",
       "      <td>JUBILEE CAMPUS</td>\n",
       "      <td>7-2022</td>\n",
       "      <td>5</td>\n",
       "    </tr>\n",
       "    <tr>\n",
       "      <th>4</th>\n",
       "      <td>JUBILEE CAMPUS</td>\n",
       "      <td>8-2022</td>\n",
       "      <td>10</td>\n",
       "    </tr>\n",
       "    <tr>\n",
       "      <th>5</th>\n",
       "      <td>JUBILEE CAMPUS</td>\n",
       "      <td>9-2022</td>\n",
       "      <td>15</td>\n",
       "    </tr>\n",
       "  </tbody>\n",
       "</table>\n",
       "</div>"
      ],
      "text/plain": [
       "          location    date number of crimes\n",
       "0  UNIVERSITY PARK  7-2022                4\n",
       "1  UNIVERSITY PARK  8-2022                7\n",
       "2  UNIVERSITY PARK  9-2022                8\n",
       "3   JUBILEE CAMPUS  7-2022                5\n",
       "4   JUBILEE CAMPUS  8-2022               10\n",
       "5   JUBILEE CAMPUS  9-2022               15"
      ]
     },
     "execution_count": 41,
     "metadata": {},
     "output_type": "execute_result"
    }
   ],
   "source": [
    "\n",
    "def num_\n",
    "if num < 10:\n",
    "    num = '0' + str(num)\n",
    "\n",
    "def count_bicycle_theft_within_1_mile_for_multiple_areas_and_months(location_names_list, coordinates_list, year, months):\n",
    "    output_df = pd.DataFrame(columns=[\"location\", \"date\", \"number of crimes\"])\n",
    "\n",
    "    for index, location_name in enumerate(location_names_list):\n",
    "        for month in months:\n",
    "            output_df = output_df.append({\"location\": location_name, \n",
    "                              \"date\": f'{month}-{year}', \n",
    "                              \"number of crimes\": count_bicycle_theft_within_1_mile(*coordinates_list[index], year, month)\n",
    "                             },ignore_index=True)\n",
    "    \n",
    "    return output_df\n",
    "\n",
    "count_bicycle_theft_within_1_mile_for_multiple_areas_and_months(['UNIVERSITY PARK', 'JUBILEE CAMPUS'], [LOCATION_UNIVERSITY_PARK, LOCATION_JUBILEE_CAMPUS], 2022, [7, 8, 9])\n",
    "\n"
   ]
  },
  {
   "cell_type": "markdown",
   "id": "f1edfff5",
   "metadata": {},
   "source": [
    "### 6. As a student safety coordinator for Jubilee Campus, I want to know the changes in the number of burglaries in each month of 2022 for students living within 1 mile of the campus so that I can make students aware of any change in the frequency of burglaries."
   ]
  },
  {
   "cell_type": "code",
   "execution_count": null,
   "id": "492c4c2c",
   "metadata": {},
   "outputs": [],
   "source": []
  },
  {
   "cell_type": "markdown",
   "id": "b958e99f",
   "metadata": {},
   "source": [
    "### 7. As a student who had their bike stolen from University Park campus in December 2022, I want to know the outcomes of bike thefts (and the counts for each) over the prior 6 months so that I have some context for the likelihood of finding the person responsible."
   ]
  },
  {
   "cell_type": "code",
   "execution_count": null,
   "id": "86b68086",
   "metadata": {},
   "outputs": [],
   "source": []
  },
  {
   "cell_type": "markdown",
   "id": "b9d5eccd",
   "metadata": {},
   "source": [
    "### 8. As a student who lives in the city centre and drives to University Park campus, I want to know if there has been a rise in the total number of vehicle crimes over the last 6 months of 2022 within 1 mile of both these locations so that I can decide whether to get a dashcam and park in more secure locations."
   ]
  },
  {
   "cell_type": "code",
   "execution_count": null,
   "id": "e1831655",
   "metadata": {},
   "outputs": [],
   "source": []
  },
  {
   "cell_type": "markdown",
   "id": "93c962e3",
   "metadata": {},
   "source": [
    "### 9. As an event organiser, I want to know the details of the senior Nottinghamshire police officers so that I can provide some information to attendees about them."
   ]
  },
  {
   "cell_type": "code",
   "execution_count": null,
   "id": "611c151e",
   "metadata": {},
   "outputs": [],
   "source": []
  },
  {
   "cell_type": "markdown",
   "id": "a5505d7c",
   "metadata": {},
   "source": [
    "### 10. As a social media account manager for the University of Nottingham. I want to know the policing priorities for Nottinghamshire police in the areas of the City Centre and Wollaton East and Lenton Abbey so that I can post these to make staff and students aware of them."
   ]
  },
  {
   "cell_type": "code",
   "execution_count": null,
   "id": "fbf403de",
   "metadata": {},
   "outputs": [],
   "source": []
  }
 ],
 "metadata": {
  "kernelspec": {
   "display_name": "Python 3 (ipykernel)",
   "language": "python",
   "name": "python3"
  },
  "language_info": {
   "codemirror_mode": {
    "name": "ipython",
    "version": 3
   },
   "file_extension": ".py",
   "mimetype": "text/x-python",
   "name": "python",
   "nbconvert_exporter": "python",
   "pygments_lexer": "ipython3",
   "version": "3.9.16"
  }
 },
 "nbformat": 4,
 "nbformat_minor": 5
}
